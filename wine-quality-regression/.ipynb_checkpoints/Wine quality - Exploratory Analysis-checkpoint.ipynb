{
 "cells": [
  {
   "cell_type": "markdown",
   "metadata": {},
   "source": [
    "## Exploratory Analysis\n",
    "\n",
    "Get a \"feel\" for the data."
   ]
  },
  {
   "cell_type": "code",
   "execution_count": 1,
   "metadata": {
    "collapsed": true
   },
   "outputs": [],
   "source": [
    "# Import dependencies\n",
    "from __future__ import print_function\n",
    "# NumPy\n",
    "import numpy as np\n",
    "# Pandas\n",
    "import pandas as pd\n",
    "# Matplotlib\n",
    "from matplotlib import pyplot as plt\n",
    "%matplotlib inline\n",
    "# Seaborn\n",
    "import seaborn as sns"
   ]
  },
  {
   "cell_type": "code",
   "execution_count": 8,
   "metadata": {},
   "outputs": [],
   "source": [
    "# Read raw dataset\n",
    "df_red = pd.read_csv('winequality-red.csv', index_col=0, delimiter=';')\n",
    "df_white = pd.read_csv('winequality-white.csv')"
   ]
  },
  {
   "cell_type": "code",
   "execution_count": 6,
   "metadata": {},
   "outputs": [
    {
     "data": {
      "text/html": [
       "<div>\n",
       "<style>\n",
       "    .dataframe thead tr:only-child th {\n",
       "        text-align: right;\n",
       "    }\n",
       "\n",
       "    .dataframe thead th {\n",
       "        text-align: left;\n",
       "    }\n",
       "\n",
       "    .dataframe tbody tr th {\n",
       "        vertical-align: top;\n",
       "    }\n",
       "</style>\n",
       "<table border=\"1\" class=\"dataframe\">\n",
       "  <thead>\n",
       "    <tr style=\"text-align: right;\">\n",
       "      <th></th>\n",
       "    </tr>\n",
       "    <tr>\n",
       "      <th>fixed acidity;\"volatile acidity\";\"citric acid\";\"residual sugar\";\"chlorides\";\"free sulfur dioxide\";\"total sulfur dioxide\";\"density\";\"pH\";\"sulphates\";\"alcohol\";\"quality\"</th>\n",
       "    </tr>\n",
       "  </thead>\n",
       "  <tbody>\n",
       "    <tr>\n",
       "      <th>7.4;0.7;0;1.9;0.076;11;34;0.9978;3.51;0.56;9.4;5</th>\n",
       "    </tr>\n",
       "    <tr>\n",
       "      <th>7.8;0.88;0;2.6;0.098;25;67;0.9968;3.2;0.68;9.8;5</th>\n",
       "    </tr>\n",
       "    <tr>\n",
       "      <th>7.8;0.76;0.04;2.3;0.092;15;54;0.997;3.26;0.65;9.8;5</th>\n",
       "    </tr>\n",
       "    <tr>\n",
       "      <th>11.2;0.28;0.56;1.9;0.075;17;60;0.998;3.16;0.58;9.8;6</th>\n",
       "    </tr>\n",
       "    <tr>\n",
       "      <th>7.4;0.7;0;1.9;0.076;11;34;0.9978;3.51;0.56;9.4;5</th>\n",
       "    </tr>\n",
       "  </tbody>\n",
       "</table>\n",
       "</div>"
      ],
      "text/plain": [
       "Empty DataFrame\n",
       "Columns: []\n",
       "Index: [7.4;0.7;0;1.9;0.076;11;34;0.9978;3.51;0.56;9.4;5, 7.8;0.88;0;2.6;0.098;25;67;0.9968;3.2;0.68;9.8;5, 7.8;0.76;0.04;2.3;0.092;15;54;0.997;3.26;0.65;9.8;5, 11.2;0.28;0.56;1.9;0.075;17;60;0.998;3.16;0.58;9.8;6, 7.4;0.7;0;1.9;0.076;11;34;0.9978;3.51;0.56;9.4;5]"
      ]
     },
     "execution_count": 6,
     "metadata": {},
     "output_type": "execute_result"
    }
   ],
   "source": [
    "df_red.head()"
   ]
  },
  {
   "cell_type": "code",
   "execution_count": null,
   "metadata": {
    "collapsed": true
   },
   "outputs": [],
   "source": []
  }
 ],
 "metadata": {
  "kernelspec": {
   "display_name": "Python 3",
   "language": "python",
   "name": "python3"
  },
  "language_info": {
   "codemirror_mode": {
    "name": "ipython",
    "version": 3
   },
   "file_extension": ".py",
   "mimetype": "text/x-python",
   "name": "python",
   "nbconvert_exporter": "python",
   "pygments_lexer": "ipython3",
   "version": "3.6.1"
  }
 },
 "nbformat": 4,
 "nbformat_minor": 2
}
