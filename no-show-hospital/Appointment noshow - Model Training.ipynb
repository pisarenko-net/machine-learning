{
 "cells": [
  {
   "cell_type": "markdown",
   "metadata": {},
   "source": [
    "## Model selection\n",
    "\n",
    "Build ML pipelines and through cross-validation and assessment choose a model that performs the best"
   ]
  },
  {
   "cell_type": "markdown",
   "metadata": {},
   "source": [
    "### Import libraries"
   ]
  },
  {
   "cell_type": "code",
   "execution_count": 6,
   "metadata": {
    "collapsed": true
   },
   "outputs": [],
   "source": [
    "# print_function for compatibility with Python 3\n",
    "from __future__ import print_function\n",
    "# NumPy for numerical computing\n",
    "import numpy as np\n",
    "# Pandas for DataFrames\n",
    "import pandas as pd\n",
    "# Matplotlib for visualization\n",
    "from matplotlib import pyplot as plt\n",
    "# display plots in the notebook\n",
    "%matplotlib inline\n",
    "# Seaborn for easier visualization\n",
    "import seaborn as sns\n",
    "# Scikit-Learn for Modeling\n",
    "import sklearn\n",
    "# Pickle for saving model files\n",
    "import pickle"
   ]
  },
  {
   "cell_type": "code",
   "execution_count": 7,
   "metadata": {
    "collapsed": true
   },
   "outputs": [],
   "source": [
    "# Import Logistic Regression\n",
    "from sklearn.linear_model import LogisticRegression\n",
    "# Import RandomForestClassifier and GradientBoostingClassifer\n",
    "from sklearn.ensemble import RandomForestClassifier\n",
    "from sklearn.ensemble import GradientBoostingClassifier"
   ]
  },
  {
   "cell_type": "code",
   "execution_count": 8,
   "metadata": {
    "collapsed": true
   },
   "outputs": [],
   "source": [
    "# Function for splitting training and test set\n",
    "from sklearn.model_selection import train_test_split\n",
    "# Function for creating model pipelines\n",
    "from sklearn.pipeline import make_pipeline\n",
    "# For standardization\n",
    "from sklearn.preprocessing import StandardScaler\n",
    "# Helper for cross-validation\n",
    "from sklearn.model_selection import GridSearchCV"
   ]
  },
  {
   "cell_type": "code",
   "execution_count": 24,
   "metadata": {
    "collapsed": true
   },
   "outputs": [],
   "source": [
    "# Classification metrics (added later)\n",
    "from sklearn.metrics import r2_score\n",
    "from sklearn.metrics import mean_absolute_error\n",
    "from sklearn.metrics import confusion_matrix\n",
    "from sklearn.metrics import accuracy_score\n",
    "from sklearn.metrics import classification_report"
   ]
  },
  {
   "cell_type": "markdown",
   "metadata": {},
   "source": [
    "## Load ABT"
   ]
  },
  {
   "cell_type": "code",
   "execution_count": 64,
   "metadata": {
    "collapsed": true
   },
   "outputs": [],
   "source": [
    "abt = pd.read_csv('abt.csv', index_col=0)"
   ]
  },
  {
   "cell_type": "markdown",
   "metadata": {},
   "source": [
    "## Split dataset\n",
    "\n",
    "Into training and testing data. Don't touch test data until late in the process."
   ]
  },
  {
   "cell_type": "code",
   "execution_count": 65,
   "metadata": {},
   "outputs": [
    {
     "data": {
      "text/html": [
       "<div>\n",
       "<style>\n",
       "    .dataframe thead tr:only-child th {\n",
       "        text-align: right;\n",
       "    }\n",
       "\n",
       "    .dataframe thead th {\n",
       "        text-align: left;\n",
       "    }\n",
       "\n",
       "    .dataframe tbody tr th {\n",
       "        vertical-align: top;\n",
       "    }\n",
       "</style>\n",
       "<table border=\"1\" class=\"dataframe\">\n",
       "  <thead>\n",
       "    <tr style=\"text-align: right;\">\n",
       "      <th></th>\n",
       "      <th>Scholarship</th>\n",
       "      <th>Hipertension</th>\n",
       "      <th>Diabetes</th>\n",
       "      <th>Alcoholism</th>\n",
       "      <th>Handcap</th>\n",
       "      <th>SMS_received</th>\n",
       "      <th>No-show</th>\n",
       "      <th>days_between</th>\n",
       "      <th>Neighbourhood_ANDORINHAS</th>\n",
       "      <th>Neighbourhood_ANTÔNIO HONÓRIO</th>\n",
       "      <th>...</th>\n",
       "      <th>Neighbourhood_SÃO PEDRO</th>\n",
       "      <th>Neighbourhood_TABUAZEIRO</th>\n",
       "      <th>Neighbourhood_UNIVERSITÁRIO</th>\n",
       "      <th>Neighbourhood_VILA RUBIM</th>\n",
       "      <th>IsReschedule</th>\n",
       "      <th>PrevAppointments</th>\n",
       "      <th>PrevNoShows</th>\n",
       "      <th>Gender_F</th>\n",
       "      <th>Gender_M</th>\n",
       "      <th>age_group</th>\n",
       "    </tr>\n",
       "  </thead>\n",
       "  <tbody>\n",
       "    <tr>\n",
       "      <th>0</th>\n",
       "      <td>0</td>\n",
       "      <td>1</td>\n",
       "      <td>0</td>\n",
       "      <td>0</td>\n",
       "      <td>0</td>\n",
       "      <td>0</td>\n",
       "      <td>0</td>\n",
       "      <td>0</td>\n",
       "      <td>0</td>\n",
       "      <td>0</td>\n",
       "      <td>...</td>\n",
       "      <td>0</td>\n",
       "      <td>0</td>\n",
       "      <td>0</td>\n",
       "      <td>0</td>\n",
       "      <td>0</td>\n",
       "      <td>0</td>\n",
       "      <td>0</td>\n",
       "      <td>1</td>\n",
       "      <td>0</td>\n",
       "      <td>45-65</td>\n",
       "    </tr>\n",
       "    <tr>\n",
       "      <th>1</th>\n",
       "      <td>0</td>\n",
       "      <td>0</td>\n",
       "      <td>0</td>\n",
       "      <td>0</td>\n",
       "      <td>0</td>\n",
       "      <td>0</td>\n",
       "      <td>0</td>\n",
       "      <td>0</td>\n",
       "      <td>0</td>\n",
       "      <td>0</td>\n",
       "      <td>...</td>\n",
       "      <td>0</td>\n",
       "      <td>0</td>\n",
       "      <td>0</td>\n",
       "      <td>0</td>\n",
       "      <td>0</td>\n",
       "      <td>0</td>\n",
       "      <td>0</td>\n",
       "      <td>0</td>\n",
       "      <td>1</td>\n",
       "      <td>45-65</td>\n",
       "    </tr>\n",
       "    <tr>\n",
       "      <th>2</th>\n",
       "      <td>0</td>\n",
       "      <td>0</td>\n",
       "      <td>0</td>\n",
       "      <td>0</td>\n",
       "      <td>0</td>\n",
       "      <td>0</td>\n",
       "      <td>0</td>\n",
       "      <td>0</td>\n",
       "      <td>0</td>\n",
       "      <td>0</td>\n",
       "      <td>...</td>\n",
       "      <td>0</td>\n",
       "      <td>0</td>\n",
       "      <td>0</td>\n",
       "      <td>0</td>\n",
       "      <td>0</td>\n",
       "      <td>0</td>\n",
       "      <td>0</td>\n",
       "      <td>1</td>\n",
       "      <td>0</td>\n",
       "      <td>45-65</td>\n",
       "    </tr>\n",
       "    <tr>\n",
       "      <th>3</th>\n",
       "      <td>0</td>\n",
       "      <td>0</td>\n",
       "      <td>0</td>\n",
       "      <td>0</td>\n",
       "      <td>0</td>\n",
       "      <td>0</td>\n",
       "      <td>0</td>\n",
       "      <td>0</td>\n",
       "      <td>0</td>\n",
       "      <td>0</td>\n",
       "      <td>...</td>\n",
       "      <td>0</td>\n",
       "      <td>0</td>\n",
       "      <td>0</td>\n",
       "      <td>0</td>\n",
       "      <td>0</td>\n",
       "      <td>0</td>\n",
       "      <td>0</td>\n",
       "      <td>1</td>\n",
       "      <td>0</td>\n",
       "      <td>6-12</td>\n",
       "    </tr>\n",
       "    <tr>\n",
       "      <th>4</th>\n",
       "      <td>0</td>\n",
       "      <td>1</td>\n",
       "      <td>1</td>\n",
       "      <td>0</td>\n",
       "      <td>0</td>\n",
       "      <td>0</td>\n",
       "      <td>0</td>\n",
       "      <td>0</td>\n",
       "      <td>0</td>\n",
       "      <td>0</td>\n",
       "      <td>...</td>\n",
       "      <td>0</td>\n",
       "      <td>0</td>\n",
       "      <td>0</td>\n",
       "      <td>0</td>\n",
       "      <td>0</td>\n",
       "      <td>0</td>\n",
       "      <td>0</td>\n",
       "      <td>1</td>\n",
       "      <td>0</td>\n",
       "      <td>45-65</td>\n",
       "    </tr>\n",
       "  </tbody>\n",
       "</table>\n",
       "<p>5 rows × 89 columns</p>\n",
       "</div>"
      ],
      "text/plain": [
       "   Scholarship  Hipertension  Diabetes  Alcoholism  Handcap  SMS_received  \\\n",
       "0            0             1         0           0        0             0   \n",
       "1            0             0         0           0        0             0   \n",
       "2            0             0         0           0        0             0   \n",
       "3            0             0         0           0        0             0   \n",
       "4            0             1         1           0        0             0   \n",
       "\n",
       "   No-show  days_between  Neighbourhood_ANDORINHAS  \\\n",
       "0        0             0                         0   \n",
       "1        0             0                         0   \n",
       "2        0             0                         0   \n",
       "3        0             0                         0   \n",
       "4        0             0                         0   \n",
       "\n",
       "   Neighbourhood_ANTÔNIO HONÓRIO    ...      Neighbourhood_SÃO PEDRO  \\\n",
       "0                              0    ...                            0   \n",
       "1                              0    ...                            0   \n",
       "2                              0    ...                            0   \n",
       "3                              0    ...                            0   \n",
       "4                              0    ...                            0   \n",
       "\n",
       "   Neighbourhood_TABUAZEIRO  Neighbourhood_UNIVERSITÁRIO  \\\n",
       "0                         0                            0   \n",
       "1                         0                            0   \n",
       "2                         0                            0   \n",
       "3                         0                            0   \n",
       "4                         0                            0   \n",
       "\n",
       "   Neighbourhood_VILA RUBIM  IsReschedule  PrevAppointments  PrevNoShows  \\\n",
       "0                         0             0                 0            0   \n",
       "1                         0             0                 0            0   \n",
       "2                         0             0                 0            0   \n",
       "3                         0             0                 0            0   \n",
       "4                         0             0                 0            0   \n",
       "\n",
       "   Gender_F  Gender_M  age_group  \n",
       "0         1         0      45-65  \n",
       "1         0         1      45-65  \n",
       "2         1         0      45-65  \n",
       "3         1         0       6-12  \n",
       "4         1         0      45-65  \n",
       "\n",
       "[5 rows x 89 columns]"
      ]
     },
     "execution_count": 65,
     "metadata": {},
     "output_type": "execute_result"
    }
   ],
   "source": [
    "abt.head()"
   ]
  },
  {
   "cell_type": "code",
   "execution_count": 66,
   "metadata": {
    "collapsed": true
   },
   "outputs": [],
   "source": [
    "# create dummy variables for the age-group but keep in a separate variable for stratification\n",
    "#age_group = abt['age_group']\n",
    "abt = pd.get_dummies(abt, 'age_group')\n",
    "\n",
    "target = abt['No-show']\n",
    "input_features = abt.drop('No-show', axis=1)\n",
    "\n",
    "input_train, input_test, target_train, target_test = train_test_split(\n",
    "    input_features, target, test_size=0.2, random_state=1234)"
   ]
  },
  {
   "cell_type": "code",
   "execution_count": 68,
   "metadata": {},
   "outputs": [
    {
     "data": {
      "text/plain": [
       "Index(['Scholarship', 'Hipertension', 'Diabetes', 'Alcoholism', 'Handcap',\n",
       "       'SMS_received', 'days_between', 'Neighbourhood_ANDORINHAS',\n",
       "       'Neighbourhood_ANTÔNIO HONÓRIO', 'Neighbourhood_ARIOVALDO FAVALESSA',\n",
       "       'Neighbourhood_BARRO VERMELHO', 'Neighbourhood_BELA VISTA',\n",
       "       'Neighbourhood_BENTO FERREIRA', 'Neighbourhood_BOA VISTA',\n",
       "       'Neighbourhood_BONFIM', 'Neighbourhood_CARATOÍRA',\n",
       "       'Neighbourhood_CENTRO', 'Neighbourhood_COMDUSA',\n",
       "       'Neighbourhood_CONQUISTA', 'Neighbourhood_CONSOLAÇÃO',\n",
       "       'Neighbourhood_CRUZAMENTO', 'Neighbourhood_DA PENHA',\n",
       "       'Neighbourhood_DE LOURDES', 'Neighbourhood_DO CABRAL',\n",
       "       'Neighbourhood_DO MOSCOSO', 'Neighbourhood_DO QUADRO',\n",
       "       'Neighbourhood_ENSEADA DO SUÁ', 'Neighbourhood_ESTRELINHA',\n",
       "       'Neighbourhood_FONTE GRANDE', 'Neighbourhood_FORTE SÃO JOÃO',\n",
       "       'Neighbourhood_FRADINHOS', 'Neighbourhood_GOIABEIRAS',\n",
       "       'Neighbourhood_GRANDE VITÓRIA', 'Neighbourhood_GURIGICA',\n",
       "       'Neighbourhood_HORTO', 'Neighbourhood_ILHA DAS CAIEIRAS',\n",
       "       'Neighbourhood_ILHA DE SANTA MARIA', 'Neighbourhood_ILHA DO PRÍNCIPE',\n",
       "       'Neighbourhood_INHANGUETÁ', 'Neighbourhood_ITARARÉ',\n",
       "       'Neighbourhood_JABOUR', 'Neighbourhood_JARDIM CAMBURI',\n",
       "       'Neighbourhood_JARDIM DA PENHA', 'Neighbourhood_JESUS DE NAZARETH',\n",
       "       'Neighbourhood_JOANA D´ARC', 'Neighbourhood_JUCUTUQUARA',\n",
       "       'Neighbourhood_MARIA ORTIZ', 'Neighbourhood_MARUÍPE',\n",
       "       'Neighbourhood_MATA DA PRAIA', 'Neighbourhood_MONTE BELO',\n",
       "       'Neighbourhood_MÁRIO CYPRESTE', 'Neighbourhood_NAZARETH',\n",
       "       'Neighbourhood_NOVA PALESTINA', 'Neighbourhood_OTHER',\n",
       "       'Neighbourhood_PARQUE MOSCOSO', 'Neighbourhood_PIEDADE',\n",
       "       'Neighbourhood_PRAIA DO CANTO', 'Neighbourhood_PRAIA DO SUÁ',\n",
       "       'Neighbourhood_REDENÇÃO', 'Neighbourhood_REPÚBLICA',\n",
       "       'Neighbourhood_RESISTÊNCIA', 'Neighbourhood_ROMÃO',\n",
       "       'Neighbourhood_SANTA CECÍLIA', 'Neighbourhood_SANTA CLARA',\n",
       "       'Neighbourhood_SANTA HELENA', 'Neighbourhood_SANTA LUÍZA',\n",
       "       'Neighbourhood_SANTA LÚCIA', 'Neighbourhood_SANTA MARTHA',\n",
       "       'Neighbourhood_SANTA TEREZA', 'Neighbourhood_SANTO ANDRÉ',\n",
       "       'Neighbourhood_SANTO ANTÔNIO', 'Neighbourhood_SANTOS DUMONT',\n",
       "       'Neighbourhood_SANTOS REIS', 'Neighbourhood_SEGURANÇA DO LAR',\n",
       "       'Neighbourhood_SOLON BORGES', 'Neighbourhood_SÃO BENEDITO',\n",
       "       'Neighbourhood_SÃO CRISTÓVÃO', 'Neighbourhood_SÃO JOSÉ',\n",
       "       'Neighbourhood_SÃO PEDRO', 'Neighbourhood_TABUAZEIRO',\n",
       "       'Neighbourhood_UNIVERSITÁRIO', 'Neighbourhood_VILA RUBIM',\n",
       "       'IsReschedule', 'PrevAppointments', 'PrevNoShows', 'Gender_F',\n",
       "       'Gender_M', 'age_group_0-6', 'age_group_12-16', 'age_group_16-30',\n",
       "       'age_group_30-45', 'age_group_45-65', 'age_group_6-12',\n",
       "       'age_group_65-85'],\n",
       "      dtype='object')"
      ]
     },
     "execution_count": 68,
     "metadata": {},
     "output_type": "execute_result"
    }
   ],
   "source": [
    "# Make sure the target variable is not present\n",
    "input_train.columns"
   ]
  },
  {
   "cell_type": "code",
   "execution_count": 71,
   "metadata": {},
   "outputs": [
    {
     "name": "stdout",
     "output_type": "stream",
     "text": [
      "(88421, 94) (22106, 94)\n"
     ]
    }
   ],
   "source": [
    "print(input_train.shape, input_test.shape)"
   ]
  },
  {
   "cell_type": "code",
   "execution_count": 72,
   "metadata": {},
   "outputs": [
    {
     "name": "stdout",
     "output_type": "stream",
     "text": [
      "(88421,) (22106,)\n"
     ]
    }
   ],
   "source": [
    "print(target_train.shape, target_test.shape)"
   ]
  },
  {
   "cell_type": "markdown",
   "metadata": {},
   "source": [
    "## Create pipelines and declare hyperparameters"
   ]
  },
  {
   "cell_type": "code",
   "execution_count": 74,
   "metadata": {
    "collapsed": true
   },
   "outputs": [],
   "source": [
    "# Pipeline dictionary\n",
    "pipelines = {\n",
    "    'l1': make_pipeline(StandardScaler(), LogisticRegression(random_state=123, penalty='l1')),\n",
    "    'l2': make_pipeline(StandardScaler(), LogisticRegression(random_state=123, penalty='l2')),\n",
    "    'rf': make_pipeline(StandardScaler(), RandomForestClassifier(random_state=123)),\n",
    "    'gb': make_pipeline(StandardScaler(), GradientBoostingClassifier(random_state=123))\n",
    "}\n",
    "\n",
    "# Hyperparameters to tune\n",
    "hyperparameters = {\n",
    "    'l1': {\n",
    "        'logisticregression__C': np.linspace(1e-3, 1e3, 10)\n",
    "    },\n",
    "    'l2': {\n",
    "        'logisticregression__C': np.linspace(1e-3, 1e3, 10)\n",
    "    },\n",
    "    'rf': {\n",
    "        'randomforestclassifier__n_estimators': [100, 200],\n",
    "        'randomforestclassifier__max_features': ['auto', 'sqrt', 0.33]\n",
    "    },\n",
    "    'gb': {\n",
    "        'gradientboostingclassifier__n_estimators': [100, 200],\n",
    "        'gradientboostingclassifier__learning_rate': [0.05, 0.1, 0.2],\n",
    "        'gradientboostingclassifier__max_depth': [1,3,5]\n",
    "    }\n",
    "}"
   ]
  },
  {
   "cell_type": "markdown",
   "metadata": {},
   "source": [
    "## Run cross-validation loops and train models"
   ]
  },
  {
   "cell_type": "code",
   "execution_count": 75,
   "metadata": {
    "collapsed": true
   },
   "outputs": [],
   "source": [
    "def fit_models(X_train, y_train):\n",
    "    # Create empty dictionary called fitted_models\n",
    "    fitted_models = {}\n",
    "\n",
    "    # Loop through model pipelines, tuning each one and saving it to fitted_models\n",
    "    for pipeline in pipelines.keys():\n",
    "\n",
    "        # Create cross-validation object from pipeline and hyperparameters\n",
    "        model = GridSearchCV(pipelines[pipeline], hyperparameters[pipeline], cv=10, n_jobs=-1)\n",
    "\n",
    "        # Fit model on X_train, y_train\n",
    "        model.fit(X_train, y_train)\n",
    "\n",
    "        # Store model in fitted_models[name] \n",
    "        fitted_models[pipeline] = model\n",
    "\n",
    "        # Print '{name} has been fitted'\n",
    "        print('{} has been fitted'.format(pipeline))\n",
    "        \n",
    "    return fitted_models"
   ]
  },
  {
   "cell_type": "code",
   "execution_count": 76,
   "metadata": {},
   "outputs": [
    {
     "name": "stdout",
     "output_type": "stream",
     "text": [
      "l1 has been fitted\n",
      "l2 has been fitted\n",
      "rf has been fitted\n",
      "gb has been fitted\n"
     ]
    }
   ],
   "source": [
    "fitted_models = fit_models(input_train, target_train)"
   ]
  },
  {
   "cell_type": "markdown",
   "metadata": {},
   "source": [
    "## Evaluate performance and choose the winner\n",
    "\n",
    "Higher R^2 score and lower MAE is better."
   ]
  },
  {
   "cell_type": "code",
   "execution_count": 77,
   "metadata": {},
   "outputs": [
    {
     "name": "stdout",
     "output_type": "stream",
     "text": [
      "l1 0.797638570023\n",
      "l2 0.797638570023\n",
      "rf 0.774103436966\n",
      "gb 0.803553454496\n"
     ]
    }
   ],
   "source": [
    "## Display best R^2 holdout score (red)\n",
    "for name, model in fitted_models.items():\n",
    "    print(name, model.best_score_)"
   ]
  },
  {
   "cell_type": "code",
   "execution_count": 78,
   "metadata": {
    "collapsed": true
   },
   "outputs": [],
   "source": [
    "def evaluate_perf(fitted_models, X_test, y_test):\n",
    "    # Predict classes using L1-regularized logistic regression \n",
    "    for model in fitted_models.keys():\n",
    "        y_pred = fitted_models[model].predict(X_test)\n",
    "        cm = confusion_matrix(y_test, y_pred)\n",
    "        print(model, accuracy_score(y_test, y_pred))\n",
    "        print(cm)\n",
    "        print(classification_report(y_test, y_pred))"
   ]
  },
  {
   "cell_type": "code",
   "execution_count": 80,
   "metadata": {},
   "outputs": [
    {
     "name": "stdout",
     "output_type": "stream",
     "text": [
      "l1 0.796706776441\n",
      "[[17414   222]\n",
      " [ 4272   198]]\n",
      "             precision    recall  f1-score   support\n",
      "\n",
      "          0       0.80      0.99      0.89     17636\n",
      "          1       0.47      0.04      0.08      4470\n",
      "\n",
      "avg / total       0.74      0.80      0.72     22106\n",
      "\n",
      "l2 0.796797249615\n",
      "[[17424   212]\n",
      " [ 4280   190]]\n",
      "             precision    recall  f1-score   support\n",
      "\n",
      "          0       0.80      0.99      0.89     17636\n",
      "          1       0.47      0.04      0.08      4470\n",
      "\n",
      "avg / total       0.74      0.80      0.72     22106\n",
      "\n",
      "rf 0.776033656021\n",
      "[[16178  1458]\n",
      " [ 3493   977]]\n",
      "             precision    recall  f1-score   support\n",
      "\n",
      "          0       0.82      0.92      0.87     17636\n",
      "          1       0.40      0.22      0.28      4470\n",
      "\n",
      "avg / total       0.74      0.78      0.75     22106\n",
      "\n",
      "gb 0.802632769384\n",
      "[[17458   178]\n",
      " [ 4185   285]]\n",
      "             precision    recall  f1-score   support\n",
      "\n",
      "          0       0.81      0.99      0.89     17636\n",
      "          1       0.62      0.06      0.12      4470\n",
      "\n",
      "avg / total       0.77      0.80      0.73     22106\n",
      "\n"
     ]
    }
   ],
   "source": [
    "## Evaluate performance of score prediction for reds\n",
    "evaluate_perf(fitted_models, input_test, target_test)"
   ]
  }
 ],
 "metadata": {
  "kernelspec": {
   "display_name": "Python 3",
   "language": "python",
   "name": "python3"
  },
  "language_info": {
   "codemirror_mode": {
    "name": "ipython",
    "version": 3
   },
   "file_extension": ".py",
   "mimetype": "text/x-python",
   "name": "python",
   "nbconvert_exporter": "python",
   "pygments_lexer": "ipython3",
   "version": "3.6.1"
  }
 },
 "nbformat": 4,
 "nbformat_minor": 2
}
