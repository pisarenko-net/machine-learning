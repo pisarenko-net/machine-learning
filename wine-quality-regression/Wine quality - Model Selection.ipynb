{
 "cells": [
  {
   "cell_type": "markdown",
   "metadata": {},
   "source": [
    "## Model selection\n",
    "\n",
    "Build ML pipelines and through cross-validation and assessment choose a model that performs the best"
   ]
  },
  {
   "cell_type": "markdown",
   "metadata": {},
   "source": [
    "### Import libraries"
   ]
  },
  {
   "cell_type": "code",
   "execution_count": 65,
   "metadata": {
    "collapsed": true
   },
   "outputs": [],
   "source": [
    "## Pandas\n",
    "import pandas as pd\n",
    "## Split into train/test datasets\n",
    "from sklearn.model_selection import train_test_split\n",
    "## Construct model pipelines\n",
    "from sklearn.pipeline import make_pipeline\n",
    "## Models\n",
    "from sklearn.linear_model import ElasticNet, Ridge, Lasso\n",
    "from sklearn.ensemble import RandomForestRegressor, GradientBoostingRegressor\n",
    "## Scale input features\n",
    "from sklearn.preprocessing import StandardScaler\n",
    "## Cross-validation loop\n",
    "from sklearn.model_selection import GridSearchCV\n",
    "## Performance assessment\n",
    "from sklearn.metrics import mean_absolute_error, r2_score, explained_variance_score\n",
    "## Matplotlib\n",
    "from matplotlib import pyplot as plt\n",
    "%matplotlib inline"
   ]
  },
  {
   "cell_type": "markdown",
   "metadata": {},
   "source": [
    "### Load datasets"
   ]
  },
  {
   "cell_type": "code",
   "execution_count": 8,
   "metadata": {
    "collapsed": true
   },
   "outputs": [],
   "source": [
    "df_red = pd.read_csv('winequality-red.csv', index_col=0, delimiter=';')\n",
    "df_white = pd.read_csv('winequality-white.csv', index_col=0, delimiter=';')"
   ]
  },
  {
   "cell_type": "markdown",
   "metadata": {},
   "source": [
    "### Split dataset"
   ]
  },
  {
   "cell_type": "code",
   "execution_count": 45,
   "metadata": {},
   "outputs": [],
   "source": [
    "red_quality = df_red.quality\n",
    "red_input_features = df_red.drop('quality', axis=1)\n",
    "red_input_train, red_input_test, red_quality_train, red_quality_test = train_test_split(\n",
    "    red_input_features, red_quality, test_size=0.2, random_state=123)\n",
    "\n",
    "white_quality = df_white.quality\n",
    "white_input_features = df_white.drop('quality', axis=1)\n",
    "white_input_train, white_input_test, white_quality_train, white_quality_test = train_test_split(\n",
    "    white_input_features, white_quality, test_size=0.2, random_state=123)"
   ]
  },
  {
   "cell_type": "code",
   "execution_count": 44,
   "metadata": {},
   "outputs": [
    {
     "data": {
      "text/html": [
       "<div>\n",
       "<style>\n",
       "    .dataframe thead tr:only-child th {\n",
       "        text-align: right;\n",
       "    }\n",
       "\n",
       "    .dataframe thead th {\n",
       "        text-align: left;\n",
       "    }\n",
       "\n",
       "    .dataframe tbody tr th {\n",
       "        vertical-align: top;\n",
       "    }\n",
       "</style>\n",
       "<table border=\"1\" class=\"dataframe\">\n",
       "  <thead>\n",
       "    <tr style=\"text-align: right;\">\n",
       "      <th></th>\n",
       "      <th>volatile acidity</th>\n",
       "      <th>citric acid</th>\n",
       "      <th>residual sugar</th>\n",
       "      <th>chlorides</th>\n",
       "      <th>free sulfur dioxide</th>\n",
       "      <th>total sulfur dioxide</th>\n",
       "      <th>density</th>\n",
       "      <th>pH</th>\n",
       "      <th>sulphates</th>\n",
       "      <th>alcohol</th>\n",
       "    </tr>\n",
       "    <tr>\n",
       "      <th>fixed acidity</th>\n",
       "      <th></th>\n",
       "      <th></th>\n",
       "      <th></th>\n",
       "      <th></th>\n",
       "      <th></th>\n",
       "      <th></th>\n",
       "      <th></th>\n",
       "      <th></th>\n",
       "      <th></th>\n",
       "      <th></th>\n",
       "    </tr>\n",
       "  </thead>\n",
       "  <tbody>\n",
       "    <tr>\n",
       "      <th>7.4</th>\n",
       "      <td>0.70</td>\n",
       "      <td>0.00</td>\n",
       "      <td>1.9</td>\n",
       "      <td>0.076</td>\n",
       "      <td>11.0</td>\n",
       "      <td>34.0</td>\n",
       "      <td>0.9978</td>\n",
       "      <td>3.51</td>\n",
       "      <td>0.56</td>\n",
       "      <td>9.4</td>\n",
       "    </tr>\n",
       "    <tr>\n",
       "      <th>7.8</th>\n",
       "      <td>0.88</td>\n",
       "      <td>0.00</td>\n",
       "      <td>2.6</td>\n",
       "      <td>0.098</td>\n",
       "      <td>25.0</td>\n",
       "      <td>67.0</td>\n",
       "      <td>0.9968</td>\n",
       "      <td>3.20</td>\n",
       "      <td>0.68</td>\n",
       "      <td>9.8</td>\n",
       "    </tr>\n",
       "    <tr>\n",
       "      <th>7.8</th>\n",
       "      <td>0.76</td>\n",
       "      <td>0.04</td>\n",
       "      <td>2.3</td>\n",
       "      <td>0.092</td>\n",
       "      <td>15.0</td>\n",
       "      <td>54.0</td>\n",
       "      <td>0.9970</td>\n",
       "      <td>3.26</td>\n",
       "      <td>0.65</td>\n",
       "      <td>9.8</td>\n",
       "    </tr>\n",
       "    <tr>\n",
       "      <th>11.2</th>\n",
       "      <td>0.28</td>\n",
       "      <td>0.56</td>\n",
       "      <td>1.9</td>\n",
       "      <td>0.075</td>\n",
       "      <td>17.0</td>\n",
       "      <td>60.0</td>\n",
       "      <td>0.9980</td>\n",
       "      <td>3.16</td>\n",
       "      <td>0.58</td>\n",
       "      <td>9.8</td>\n",
       "    </tr>\n",
       "    <tr>\n",
       "      <th>7.4</th>\n",
       "      <td>0.70</td>\n",
       "      <td>0.00</td>\n",
       "      <td>1.9</td>\n",
       "      <td>0.076</td>\n",
       "      <td>11.0</td>\n",
       "      <td>34.0</td>\n",
       "      <td>0.9978</td>\n",
       "      <td>3.51</td>\n",
       "      <td>0.56</td>\n",
       "      <td>9.4</td>\n",
       "    </tr>\n",
       "  </tbody>\n",
       "</table>\n",
       "</div>"
      ],
      "text/plain": [
       "               volatile acidity  citric acid  residual sugar  chlorides  \\\n",
       "fixed acidity                                                             \n",
       "7.4                        0.70         0.00             1.9      0.076   \n",
       "7.8                        0.88         0.00             2.6      0.098   \n",
       "7.8                        0.76         0.04             2.3      0.092   \n",
       "11.2                       0.28         0.56             1.9      0.075   \n",
       "7.4                        0.70         0.00             1.9      0.076   \n",
       "\n",
       "               free sulfur dioxide  total sulfur dioxide  density    pH  \\\n",
       "fixed acidity                                                             \n",
       "7.4                           11.0                  34.0   0.9978  3.51   \n",
       "7.8                           25.0                  67.0   0.9968  3.20   \n",
       "7.8                           15.0                  54.0   0.9970  3.26   \n",
       "11.2                          17.0                  60.0   0.9980  3.16   \n",
       "7.4                           11.0                  34.0   0.9978  3.51   \n",
       "\n",
       "               sulphates  alcohol  \n",
       "fixed acidity                      \n",
       "7.4                 0.56      9.4  \n",
       "7.8                 0.68      9.8  \n",
       "7.8                 0.65      9.8  \n",
       "11.2                0.58      9.8  \n",
       "7.4                 0.56      9.4  "
      ]
     },
     "execution_count": 44,
     "metadata": {},
     "output_type": "execute_result"
    }
   ],
   "source": [
    "## Make sure the 'quality' column is not present\n",
    "red_input_features.head()"
   ]
  },
  {
   "cell_type": "code",
   "execution_count": 47,
   "metadata": {},
   "outputs": [
    {
     "data": {
      "text/html": [
       "<div>\n",
       "<style>\n",
       "    .dataframe thead tr:only-child th {\n",
       "        text-align: right;\n",
       "    }\n",
       "\n",
       "    .dataframe thead th {\n",
       "        text-align: left;\n",
       "    }\n",
       "\n",
       "    .dataframe tbody tr th {\n",
       "        vertical-align: top;\n",
       "    }\n",
       "</style>\n",
       "<table border=\"1\" class=\"dataframe\">\n",
       "  <thead>\n",
       "    <tr style=\"text-align: right;\">\n",
       "      <th></th>\n",
       "      <th>volatile acidity</th>\n",
       "      <th>citric acid</th>\n",
       "      <th>residual sugar</th>\n",
       "      <th>chlorides</th>\n",
       "      <th>free sulfur dioxide</th>\n",
       "      <th>total sulfur dioxide</th>\n",
       "      <th>density</th>\n",
       "      <th>pH</th>\n",
       "      <th>sulphates</th>\n",
       "      <th>alcohol</th>\n",
       "    </tr>\n",
       "    <tr>\n",
       "      <th>fixed acidity</th>\n",
       "      <th></th>\n",
       "      <th></th>\n",
       "      <th></th>\n",
       "      <th></th>\n",
       "      <th></th>\n",
       "      <th></th>\n",
       "      <th></th>\n",
       "      <th></th>\n",
       "      <th></th>\n",
       "      <th></th>\n",
       "    </tr>\n",
       "  </thead>\n",
       "  <tbody>\n",
       "    <tr>\n",
       "      <th>7.0</th>\n",
       "      <td>0.27</td>\n",
       "      <td>0.36</td>\n",
       "      <td>20.7</td>\n",
       "      <td>0.045</td>\n",
       "      <td>45.0</td>\n",
       "      <td>170.0</td>\n",
       "      <td>1.0010</td>\n",
       "      <td>3.00</td>\n",
       "      <td>0.45</td>\n",
       "      <td>8.8</td>\n",
       "    </tr>\n",
       "    <tr>\n",
       "      <th>6.3</th>\n",
       "      <td>0.30</td>\n",
       "      <td>0.34</td>\n",
       "      <td>1.6</td>\n",
       "      <td>0.049</td>\n",
       "      <td>14.0</td>\n",
       "      <td>132.0</td>\n",
       "      <td>0.9940</td>\n",
       "      <td>3.30</td>\n",
       "      <td>0.49</td>\n",
       "      <td>9.5</td>\n",
       "    </tr>\n",
       "    <tr>\n",
       "      <th>8.1</th>\n",
       "      <td>0.28</td>\n",
       "      <td>0.40</td>\n",
       "      <td>6.9</td>\n",
       "      <td>0.050</td>\n",
       "      <td>30.0</td>\n",
       "      <td>97.0</td>\n",
       "      <td>0.9951</td>\n",
       "      <td>3.26</td>\n",
       "      <td>0.44</td>\n",
       "      <td>10.1</td>\n",
       "    </tr>\n",
       "    <tr>\n",
       "      <th>7.2</th>\n",
       "      <td>0.23</td>\n",
       "      <td>0.32</td>\n",
       "      <td>8.5</td>\n",
       "      <td>0.058</td>\n",
       "      <td>47.0</td>\n",
       "      <td>186.0</td>\n",
       "      <td>0.9956</td>\n",
       "      <td>3.19</td>\n",
       "      <td>0.40</td>\n",
       "      <td>9.9</td>\n",
       "    </tr>\n",
       "    <tr>\n",
       "      <th>7.2</th>\n",
       "      <td>0.23</td>\n",
       "      <td>0.32</td>\n",
       "      <td>8.5</td>\n",
       "      <td>0.058</td>\n",
       "      <td>47.0</td>\n",
       "      <td>186.0</td>\n",
       "      <td>0.9956</td>\n",
       "      <td>3.19</td>\n",
       "      <td>0.40</td>\n",
       "      <td>9.9</td>\n",
       "    </tr>\n",
       "  </tbody>\n",
       "</table>\n",
       "</div>"
      ],
      "text/plain": [
       "               volatile acidity  citric acid  residual sugar  chlorides  \\\n",
       "fixed acidity                                                             \n",
       "7.0                        0.27         0.36            20.7      0.045   \n",
       "6.3                        0.30         0.34             1.6      0.049   \n",
       "8.1                        0.28         0.40             6.9      0.050   \n",
       "7.2                        0.23         0.32             8.5      0.058   \n",
       "7.2                        0.23         0.32             8.5      0.058   \n",
       "\n",
       "               free sulfur dioxide  total sulfur dioxide  density    pH  \\\n",
       "fixed acidity                                                             \n",
       "7.0                           45.0                 170.0   1.0010  3.00   \n",
       "6.3                           14.0                 132.0   0.9940  3.30   \n",
       "8.1                           30.0                  97.0   0.9951  3.26   \n",
       "7.2                           47.0                 186.0   0.9956  3.19   \n",
       "7.2                           47.0                 186.0   0.9956  3.19   \n",
       "\n",
       "               sulphates  alcohol  \n",
       "fixed acidity                      \n",
       "7.0                 0.45      8.8  \n",
       "6.3                 0.49      9.5  \n",
       "8.1                 0.44     10.1  \n",
       "7.2                 0.40      9.9  \n",
       "7.2                 0.40      9.9  "
      ]
     },
     "execution_count": 47,
     "metadata": {},
     "output_type": "execute_result"
    }
   ],
   "source": [
    "## Make sure the 'quality' column is not present\n",
    "white_input_features.head()"
   ]
  },
  {
   "cell_type": "markdown",
   "metadata": {},
   "source": [
    "### Create pipelines and declare hyperparameters"
   ]
  },
  {
   "cell_type": "code",
   "execution_count": 59,
   "metadata": {
    "collapsed": true
   },
   "outputs": [],
   "source": [
    "pipelines = {\n",
    "    'lasso': make_pipeline(StandardScaler(), Lasso(random_state=123)),\n",
    "    'ridge': make_pipeline(StandardScaler(), Ridge(random_state=123)),\n",
    "    'enet': make_pipeline(StandardScaler(), ElasticNet(random_state=123)),\n",
    "    'rf': make_pipeline(StandardScaler(), RandomForestRegressor(random_state=123)),\n",
    "    'gb': make_pipeline(StandardScaler(), GradientBoostingRegressor(random_state=123))\n",
    "}\n",
    "\n",
    "hyperparameters = {\n",
    "    'lasso': {\n",
    "        'lasso__alpha' : [0.001, 0.005, 0.01, 0.05, 0.1, 0.5, 1, 5, 10]\n",
    "    },\n",
    "    'ridge': {\n",
    "        'ridge__alpha': [0.001, 0.005, 0.01, 0.05, 0.1, 0.5, 1, 5, 10]\n",
    "    },\n",
    "    'enet': {\n",
    "        'elasticnet__alpha': [0.001, 0.005, 0.01, 0.05, 0.1, 0.5, 1, 5, 10],                        \n",
    "        'elasticnet__l1_ratio' : [0.1, 0.3, 0.5, 0.7, 0.9]\n",
    "    },\n",
    "    'rf': {\n",
    "        'randomforestregressor__n_estimators': [100, 200],\n",
    "        'randomforestregressor__max_features': ['auto', 'sqrt', 0.33]\n",
    "    },\n",
    "    'gb': {\n",
    "        'gradientboostingregressor__n_estimators': [100, 200],\n",
    "        'gradientboostingregressor__learning_rate': [0.05, 0.1, 0.2],\n",
    "        'gradientboostingregressor__max_depth': [1, 3, 5]\n",
    "    }\n",
    "}"
   ]
  },
  {
   "cell_type": "markdown",
   "metadata": {},
   "source": [
    "### Run cross-validation loops and train models"
   ]
  },
  {
   "cell_type": "code",
   "execution_count": 60,
   "metadata": {},
   "outputs": [],
   "source": [
    "def fit_models(X_train, y_train):\n",
    "    # Create empty dictionary called fitted_models\n",
    "    fitted_models = {}\n",
    "\n",
    "    # Loop through model pipelines, tuning each one and saving it to fitted_models\n",
    "    for name, pipeline in pipelines.items():\n",
    "        # Create cross-validation object from pipeline and hyperparameters\n",
    "        fitted_models[name] = GridSearchCV(pipelines[name], hyperparameters[name], cv=10, n_jobs=-1)\n",
    "\n",
    "        # Fit model on X_train, y_train\n",
    "        fitted_models[name].fit(X_train, y_train)\n",
    "\n",
    "        # Print '{name} has been fitted'\n",
    "        print(name, 'has been fitted.')\n",
    "\n",
    "    return fitted_models"
   ]
  },
  {
   "cell_type": "code",
   "execution_count": 61,
   "metadata": {},
   "outputs": [
    {
     "name": "stdout",
     "output_type": "stream",
     "text": [
      "lasso has been fitted.\n",
      "ridge has been fitted.\n",
      "enet has been fitted.\n",
      "rf has been fitted.\n",
      "gb has been fitted.\n"
     ]
    }
   ],
   "source": [
    "fitted_red_models = fit_models(red_input_train, red_quality_train)"
   ]
  },
  {
   "cell_type": "code",
   "execution_count": 51,
   "metadata": {},
   "outputs": [
    {
     "name": "stdout",
     "output_type": "stream",
     "text": [
      "lasso has been fitted.\n",
      "ridge has been fitted.\n",
      "enet has been fitted.\n",
      "rf has been fitted.\n",
      "gb has been fitted.\n"
     ]
    }
   ],
   "source": [
    "fitted_white_models = fit_models(white_input_train, white_quality_train)"
   ]
  },
  {
   "cell_type": "markdown",
   "metadata": {},
   "source": [
    "### Evaluate performance and choose the winner\n",
    "\n",
    "Higher R^2 score and lower MAE is better."
   ]
  },
  {
   "cell_type": "code",
   "execution_count": 62,
   "metadata": {},
   "outputs": [
    {
     "name": "stdout",
     "output_type": "stream",
     "text": [
      "lasso 0.340473178192\n",
      "ridge 0.338261204008\n",
      "enet 0.340276805875\n",
      "rf 0.469882446628\n",
      "gb 0.405732354021\n"
     ]
    }
   ],
   "source": [
    "## Display best R^2 holdout score (red)\n",
    "for name, model in fitted_red_models.items():\n",
    "    print(name, model.best_score_)"
   ]
  },
  {
   "cell_type": "code",
   "execution_count": 53,
   "metadata": {},
   "outputs": [
    {
     "name": "stdout",
     "output_type": "stream",
     "text": [
      "lasso 0.263777137078\n",
      "ridge 0.263725910305\n",
      "enet 0.263878296412\n",
      "rf 0.523889580533\n",
      "gb 0.476010875276\n"
     ]
    }
   ],
   "source": [
    "## Display best R^2 holdout score (red)\n",
    "for name, model in fitted_white_models.items():\n",
    "    print(name, model.best_score_)"
   ]
  },
  {
   "cell_type": "code",
   "execution_count": 54,
   "metadata": {
    "collapsed": true
   },
   "outputs": [],
   "source": [
    "def evaluate_perf(fitted_models, X_test, y_test):\n",
    "    for name in fitted_models.keys():\n",
    "        print(name)\n",
    "        print('--------')\n",
    "        pred = fitted_models[name].predict(X_test)\n",
    "        print('R^2:', r2_score(y_test, pred))\n",
    "        print('MAE:', mean_absolute_error(y_test, pred))\n",
    "        print()"
   ]
  },
  {
   "cell_type": "code",
   "execution_count": 63,
   "metadata": {},
   "outputs": [
    {
     "name": "stdout",
     "output_type": "stream",
     "text": [
      "lasso\n",
      "--------\n",
      "R^2: 0.333617187356\n",
      "MAE: 0.538918854695\n",
      "\n",
      "ridge\n",
      "--------\n",
      "R^2: 0.341753123686\n",
      "MAE: 0.534600976629\n",
      "\n",
      "enet\n",
      "--------\n",
      "R^2: 0.333840843348\n",
      "MAE: 0.538802741692\n",
      "\n",
      "rf\n",
      "--------\n",
      "R^2: 0.50946549214\n",
      "MAE: 0.42884375\n",
      "\n",
      "gb\n",
      "--------\n",
      "R^2: 0.450976462648\n",
      "MAE: 0.458434761091\n",
      "\n"
     ]
    }
   ],
   "source": [
    "## Evaluate performance of score prediction for reds\n",
    "evaluate_perf(fitted_red_models, red_input_test, red_quality_test)"
   ]
  },
  {
   "cell_type": "code",
   "execution_count": 56,
   "metadata": {},
   "outputs": [
    {
     "name": "stdout",
     "output_type": "stream",
     "text": [
      "lasso\n",
      "--------\n",
      "R^2: 0.296762328844\n",
      "MAE: 0.567602103036\n",
      "\n",
      "ridge\n",
      "--------\n",
      "R^2: 0.296508465881\n",
      "MAE: 0.567649185477\n",
      "\n",
      "enet\n",
      "--------\n",
      "R^2: 0.297076549584\n",
      "MAE: 0.567352793917\n",
      "\n",
      "rf\n",
      "--------\n",
      "R^2: 0.539313006715\n",
      "MAE: 0.417010204082\n",
      "\n",
      "gb\n",
      "--------\n",
      "R^2: 0.447241880685\n",
      "MAE: 0.471533405408\n",
      "\n"
     ]
    }
   ],
   "source": [
    "## Evaluate performance of score prediction for whites\n",
    "evaluate_perf(fitted_white_models, white_input_test, white_quality_test)"
   ]
  },
  {
   "cell_type": "markdown",
   "metadata": {},
   "source": [
    "### Result\n",
    "\n",
    "According to the R2 score and MAE, random forrest offers the best performance."
   ]
  },
  {
   "cell_type": "code",
   "execution_count": 58,
   "metadata": {},
   "outputs": [
    {
     "data": {
      "image/png": "[encoded data removed]",
      "text/plain": [
       "<matplotlib.figure.Figure at 0x7fb4e0af4c88>"
      ]
     },
     "metadata": {},
     "output_type": "display_data"
    }
   ],
   "source": [
    "ridge_pred = fitted_red_models['rf'].predict(red_input_test)\n",
    "plt.scatter(ridge_pred, red_quality_test)\n",
    "plt.xlabel('predicted')\n",
    "plt.ylabel('actual')\n",
    "plt.show()"
   ]
  },
  {
   "cell_type": "code",
   "execution_count": 64,
   "metadata": {},
   "outputs": [
    {
     "data": {
      "text/plain": [
       "GridSearchCV(cv=10, error_score='raise',\n",
       "       estimator=Pipeline(steps=[('standardscaler', StandardScaler(copy=True, with_mean=True, with_std=True)), ('randomforestregressor', RandomForestRegressor(bootstrap=True, criterion='mse', max_depth=None,\n",
       "           max_features='auto', max_leaf_nodes=None,\n",
       "           min_impurity_split=1e-07, min_samples_leaf=1,\n",
       "           min_samples_split=2, min_weight_fraction_leaf=0.0,\n",
       "           n_estimators=10, n_jobs=1, oob_score=False, random_state=None,\n",
       "           verbose=0, warm_start=False))]),\n",
       "       fit_params={}, iid=True, n_jobs=-1,\n",
       "       param_grid={'randomforestregressor__n_estimators': [100, 200], 'randomforestregressor__max_features': ['auto', 'sqrt', 0.33]},\n",
       "       pre_dispatch='2*n_jobs', refit=True, return_train_score=True,\n",
       "       scoring=None, verbose=0)"
      ]
     },
     "execution_count": 64,
     "metadata": {},
     "output_type": "execute_result"
    }
   ],
   "source": [
    "fitted_red_models['rf']"
   ]
  },
  {
   "cell_type": "code",
   "execution_count": 68,
   "metadata": {},
   "outputs": [
    {
     "data": {
      "text/plain": [
       "0.51008110266327455"
      ]
     },
     "execution_count": 68,
     "metadata": {},
     "output_type": "execute_result"
    }
   ],
   "source": [
    "explained_variance_score(red_quality_test, fitted_red_models['rf'].predict(red_input_test))"
   ]
  },
  {
   "cell_type": "code",
   "execution_count": null,
   "metadata": {
    "collapsed": true
   },
   "outputs": [],
   "source": []
  }
 ],
 "metadata": {
  "kernelspec": {
   "display_name": "Python 3",
   "language": "python",
   "name": "python3"
  },
  "language_info": {
   "codemirror_mode": {
    "name": "ipython",
    "version": 3
   },
   "file_extension": ".py",
   "mimetype": "text/x-python",
   "name": "python",
   "nbconvert_exporter": "python",
   "pygments_lexer": "ipython3",
   "version": "3.6.1"
  }
 },
 "nbformat": 4,
 "nbformat_minor": 2
}
